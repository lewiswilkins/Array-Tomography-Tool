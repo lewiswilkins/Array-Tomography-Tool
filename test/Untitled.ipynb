{
 "cells": [
  {
   "cell_type": "code",
   "execution_count": 2,
   "metadata": {},
   "outputs": [],
   "source": [
    "import numpy as np\n",
    "from math import sqrt"
   ]
  },
  {
   "cell_type": "code",
   "execution_count": 196,
   "metadata": {},
   "outputs": [],
   "source": [
    "channel_1 = np.array([[1.4,3.1,1.3],\n",
    "                      [2.4,2.22,2.9],\n",
    "                      [2,3,4]\n",
    "                     ])\n",
    "resolutions  = [0.1, 0.1, 0.07]\n",
    "\n",
    "                     \n",
    "channel_2 = np.array([[1.1,1.1,1.1],\n",
    "                      [2.1,2.1,1.1],\n",
    "                      [3.1,3.1,1.1],\n",
    "                      [11,1,1]\n",
    "                     ])\n",
    "\n",
    "channel_1 = np.arange(300).reshape((100,3))\n",
    "channel_2 = np.arange(300).reshape((100,3))"
   ]
  },
  {
   "cell_type": "code",
   "execution_count": 197,
   "metadata": {},
   "outputs": [],
   "source": [
    "channel_1_t = channel_1.transpose()"
   ]
  },
  {
   "cell_type": "code",
   "execution_count": 198,
   "metadata": {},
   "outputs": [],
   "source": [
    "channel_1_t = channel_1.transpose()\n",
    "a_t_minus_b = channel_1_t-channel_2[:,:, np.newaxis]"
   ]
  },
  {
   "cell_type": "code",
   "execution_count": 199,
   "metadata": {},
   "outputs": [
    {
     "data": {
      "text/plain": [
       "30000"
      ]
     },
     "execution_count": 199,
     "metadata": {},
     "output_type": "execute_result"
    }
   ],
   "source": [
    "a_t_minus_b.size"
   ]
  },
  {
   "cell_type": "code",
   "execution_count": 200,
   "metadata": {},
   "outputs": [],
   "source": [
    "def find_distances(channel_1, channel_2):\n",
    "    channel_1_t = channel_1.transpose()\n",
    "    a_t_minus_b = channel_1_t-channel_2[:,:, np.newaxis]\n",
    "    T = np.tensordot(a_t_minus_b,a_t_minus_b, axes=((1),(1)))\n",
    "    T=T**0.5\n",
    "    return T"
   ]
  },
  {
   "cell_type": "code",
   "execution_count": 201,
   "metadata": {},
   "outputs": [
    {
     "name": "stdout",
     "output_type": "stream",
     "text": [
      "4.895294904708862\n"
     ]
    },
    {
     "name": "stderr",
     "output_type": "stream",
     "text": [
      "/Library/Frameworks/Python.framework/Versions/3.6/lib/python3.6/site-packages/ipykernel_launcher.py:5: RuntimeWarning: invalid value encountered in power\n",
      "  \"\"\"\n"
     ]
    }
   ],
   "source": [
    "import time\n",
    "start = time.time()\n",
    "T = find_distances(channel_1, channel_2)\n",
    "end = time.time()\n",
    "print(end-start)"
   ]
  },
  {
   "cell_type": "code",
   "execution_count": 179,
   "metadata": {},
   "outputs": [
    {
     "data": {
      "text/plain": [
       "3.581898937714463"
      ]
     },
     "execution_count": 179,
     "metadata": {},
     "output_type": "execute_result"
    }
   ],
   "source": [
    "\n",
    "T[0][2][0][2]"
   ]
  },
  {
   "cell_type": "code",
   "execution_count": 163,
   "metadata": {},
   "outputs": [
    {
     "data": {
      "text/plain": [
       "(4, 3, 4, 3)"
      ]
     },
     "execution_count": 163,
     "metadata": {},
     "output_type": "execute_result"
    }
   ],
   "source": [
    "T.shape"
   ]
  },
  {
   "cell_type": "code",
   "execution_count": null,
   "metadata": {},
   "outputs": [],
   "source": []
  },
  {
   "cell_type": "code",
   "execution_count": 206,
   "metadata": {},
   "outputs": [],
   "source": [
    "def get_distance(a,b):\n",
    "    distance = sqrt(pow((a[0]-b[0]),2)+\n",
    "                    pow((a[1]-b[1]),2)+\n",
    "                    pow((a[2]-b[2]),2))\n",
    "    return distance"
   ]
  },
  {
   "cell_type": "code",
   "execution_count": 207,
   "metadata": {},
   "outputs": [
    {
     "name": "stdout",
     "output_type": "stream",
     "text": [
      "0.029314756393432617\n"
     ]
    }
   ],
   "source": [
    "start = time.time()\n",
    "for a in channel_1:\n",
    "    for b in channel_2:\n",
    "        k = get_distance(a,b)\n",
    "end = time.time()\n",
    "print(end-start)"
   ]
  },
  {
   "cell_type": "code",
   "execution_count": null,
   "metadata": {},
   "outputs": [],
   "source": []
  },
  {
   "cell_type": "code",
   "execution_count": 217,
   "metadata": {},
   "outputs": [],
   "source": [
    "A = np.array([[1,2,3],\n",
    "             [2,3,4]])\n",
    "B = np.array([[1,2,3],\n",
    "             [3,4,5],\n",
    "             [3,3,3],\n",
    "             [2,3,4]])\n",
    "A_T = A.transpose()\n",
    "\n",
    "difference = A_T - B[:,:, np.newaxis]\n"
   ]
  },
  {
   "cell_type": "code",
   "execution_count": 273,
   "metadata": {},
   "outputs": [
    {
     "data": {
      "text/plain": [
       "array([[[ 0,  1],\n",
       "        [ 0,  1],\n",
       "        [ 0,  1]],\n",
       "\n",
       "       [[-2, -1],\n",
       "        [-2, -1],\n",
       "        [-2, -1]],\n",
       "\n",
       "       [[-2, -1],\n",
       "        [-1,  0],\n",
       "        [ 0,  1]],\n",
       "\n",
       "       [[-1,  0],\n",
       "        [-1,  0],\n",
       "        [-1,  0]]])"
      ]
     },
     "execution_count": 273,
     "metadata": {},
     "output_type": "execute_result"
    }
   ],
   "source": [
    "difference"
   ]
  },
  {
   "cell_type": "code",
   "execution_count": 274,
   "metadata": {},
   "outputs": [
    {
     "data": {
      "text/plain": [
       "array([[[ 0, -2, -2, -1],\n",
       "        [ 0, -2, -1, -1],\n",
       "        [ 0, -2,  0, -1]],\n",
       "\n",
       "       [[ 1, -1, -1,  0],\n",
       "        [ 1, -1,  0,  0],\n",
       "        [ 1, -1,  1,  0]]])"
      ]
     },
     "execution_count": 274,
     "metadata": {},
     "output_type": "execute_result"
    }
   ],
   "source": [
    "d_t = difference.transpose()\n",
    "\n",
    "\n",
    "d_shaped = d_t.flatten(\"C\").reshape((2,3,4))\n",
    "d_shaped"
   ]
  },
  {
   "cell_type": "code",
   "execution_count": 285,
   "metadata": {},
   "outputs": [
    {
     "data": {
      "text/plain": [
       "array([[0, 4, 4, 1],\n",
       "       [0, 4, 1, 1],\n",
       "       [0, 4, 0, 1]])"
      ]
     },
     "execution_count": 285,
     "metadata": {},
     "output_type": "execute_result"
    }
   ],
   "source": [
    "d_shaped[0]*d_shaped[0]\n"
   ]
  },
  {
   "cell_type": "code",
   "execution_count": 301,
   "metadata": {},
   "outputs": [
    {
     "data": {
      "text/plain": [
       "array([[ 0,  0,  0,  0],\n",
       "       [ 0, 12,  6,  6],\n",
       "       [ 0,  6,  5,  3],\n",
       "       [ 0,  6,  3,  3]])"
      ]
     },
     "execution_count": 301,
     "metadata": {},
     "output_type": "execute_result"
    }
   ],
   "source": [
    "d_0 = np.tensordot(d_shaped[0], d_shaped[0], axes=([0],[0]))\n",
    "d_0"
   ]
  },
  {
   "cell_type": "code",
   "execution_count": 295,
   "metadata": {},
   "outputs": [],
   "source": [
    "a = np.tensordot(d_0, np.identity(4), axes=([0],[0]))"
   ]
  },
  {
   "cell_type": "code",
   "execution_count": 297,
   "metadata": {},
   "outputs": [
    {
     "data": {
      "text/plain": [
       "array([ 0., 12.,  5.,  3.])"
      ]
     },
     "execution_count": 297,
     "metadata": {},
     "output_type": "execute_result"
    }
   ],
   "source": [
    "np.diag(a)"
   ]
  },
  {
   "cell_type": "code",
   "execution_count": 1,
   "metadata": {},
   "outputs": [],
   "source": [
    "def get_distances(channel_1, channel_2):\n",
    "    n = len(channel_1)\n",
    "    m = len(channel_2)\n",
    "   \n",
    "    difference = channel_1.transpose()- channel_2[:,:, np.newaxis]\n",
    "    difference_reshape = difference.transpose().flatten(\"C\").reshape((n,3,m))\n",
    "    "
   ]
  },
  {
   "cell_type": "code",
   "execution_count": 17,
   "metadata": {},
   "outputs": [],
   "source": [
    "from skimage import io, measure\n",
    "from skimage.filters import threshold_otsu"
   ]
  },
  {
   "cell_type": "code",
   "execution_count": 26,
   "metadata": {},
   "outputs": [],
   "source": [
    "image = np.array(io.imread(\"../test_data/042-stack1-PSD.tif\", \"pil\"))"
   ]
  },
  {
   "cell_type": "code",
   "execution_count": 27,
   "metadata": {},
   "outputs": [],
   "source": [
    "threshold = threshold_otsu(image)\n"
   ]
  },
  {
   "cell_type": "code",
   "execution_count": 28,
   "metadata": {},
   "outputs": [],
   "source": [
    "binary = image > threshold"
   ]
  },
  {
   "cell_type": "code",
   "execution_count": 29,
   "metadata": {},
   "outputs": [
    {
     "data": {
      "text/plain": [
       "<matplotlib.image.AxesImage at 0x1237a77f0>"
      ]
     },
     "execution_count": 29,
     "metadata": {},
     "output_type": "execute_result"
    },
    {
     "data": {
      "image/png": "[encoded data removed]",
      "text/plain": [
       "<Figure size 432x288 with 1 Axes>"
      ]
     },
     "metadata": {
      "needs_background": "light"
     },
     "output_type": "display_data"
    }
   ],
   "source": [
    "io.imshow(binary)"
   ]
  },
  {
   "cell_type": "code",
   "execution_count": 31,
   "metadata": {},
   "outputs": [],
   "source": [
    "import matplotlib.pyplot as plt\n"
   ]
  },
  {
   "cell_type": "code",
   "execution_count": 33,
   "metadata": {},
   "outputs": [
    {
     "data": {
      "text/plain": [
       "<matplotlib.image.AxesImage at 0x12394c7f0>"
      ]
     },
     "execution_count": 33,
     "metadata": {},
     "output_type": "execute_result"
    },
    {
     "data": {
      "image/png": "[encoded data removed]",
      "text/plain": [
       "<Figure size 432x288 with 1 Axes>"
      ]
     },
     "metadata": {
      "needs_background": "light"
     },
     "output_type": "display_data"
    }
   ],
   "source": [
    "plt.imshow(image)"
   ]
  },
  {
   "cell_type": "code",
   "execution_count": 35,
   "metadata": {},
   "outputs": [],
   "source": [
    "labels = measure.label(image, connectivity=1)"
   ]
  },
  {
   "cell_type": "code",
   "execution_count": 37,
   "metadata": {},
   "outputs": [
    {
     "data": {
      "text/plain": [
       "<matplotlib.image.AxesImage at 0x1239a5828>"
      ]
     },
     "execution_count": 37,
     "metadata": {},
     "output_type": "execute_result"
    },
    {
     "data": {
      "image/png": "[encoded data removed]",
      "text/plain": [
       "<Figure size 432x288 with 1 Axes>"
      ]
     },
     "metadata": {
      "needs_background": "light"
     },
     "output_type": "display_data"
    }
   ],
   "source": [
    "plt.imshow(labels)"
   ]
  },
  {
   "cell_type": "code",
   "execution_count": null,
   "metadata": {},
   "outputs": [],
   "source": []
  }
 ],
 "metadata": {
  "kernelspec": {
   "display_name": "Python 3",
   "language": "python",
   "name": "python3"
  },
  "language_info": {
   "codemirror_mode": {
    "name": "ipython",
    "version": 3
   },
   "file_extension": ".py",
   "mimetype": "text/x-python",
   "name": "python",
   "nbconvert_exporter": "python",
   "pygments_lexer": "ipython3",
   "version": "3.6.2"
  }
 },
 "nbformat": 4,
 "nbformat_minor": 2
}
