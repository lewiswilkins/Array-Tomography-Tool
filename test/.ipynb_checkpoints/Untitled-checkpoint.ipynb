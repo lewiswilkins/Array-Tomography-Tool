{
 "cells": [
  {
   "cell_type": "code",
   "execution_count": 2,
   "metadata": {},
   "outputs": [],
   "source": [
    "import numpy as np"
   ]
  },
  {
   "cell_type": "code",
   "execution_count": 71,
   "metadata": {},
   "outputs": [
    {
     "ename": "SyntaxError",
     "evalue": "invalid syntax (<ipython-input-71-9af78708f0f8>, line 4)",
     "output_type": "error",
     "traceback": [
      "\u001b[0;36m  File \u001b[0;32m\"<ipython-input-71-9af78708f0f8>\"\u001b[0;36m, line \u001b[0;32m4\u001b[0m\n\u001b[0;31m    resolutions  = [0.1, 0.1, 0.07]\u001b[0m\n\u001b[0m              ^\u001b[0m\n\u001b[0;31mSyntaxError\u001b[0m\u001b[0;31m:\u001b[0m invalid syntax\n"
     ]
    }
   ],
   "source": [
    "channel_1 = np.array([[1,1,1],\n",
    "                      [2,2,2],\n",
    "                      [3,3,3]])\n",
    "resolutions  = [0.1, 0.1, 0.07]\n",
    "\n",
    "                     \n",
    "channel_2 = np.array([[1.1,1.1,1.1],\n",
    "                      [2.1,2.1,1.1],\n",
    "                      [3.1,3.1,1.1]\n",
    "                     ])\n",
    "channel_1*resolutions"
   ]
  },
  {
   "cell_type": "code",
   "execution_count": 67,
   "metadata": {},
   "outputs": [],
   "source": [
    "channel_1_t = channel_1.transpose()"
   ]
  },
  {
   "cell_type": "code",
   "execution_count": 68,
   "metadata": {},
   "outputs": [],
   "source": [
    "a_t_minus_b = channel_1_t-channel_2[:,:, np.newaxis]"
   ]
  },
  {
   "cell_type": "code",
   "execution_count": 69,
   "metadata": {},
   "outputs": [
    {
     "data": {
      "text/plain": [
       "array([[[-0.1,  0.9,  1.9],\n",
       "        [-0.1,  0.9,  1.9],\n",
       "        [-0.1,  0.9,  1.9]],\n",
       "\n",
       "       [[-1.1, -0.1,  0.9],\n",
       "        [-1.1, -0.1,  0.9],\n",
       "        [-0.1,  0.9,  1.9]],\n",
       "\n",
       "       [[-2.1, -1.1, -0.1],\n",
       "        [-2.1, -1.1, -0.1],\n",
       "        [-0.1,  0.9,  1.9]]])"
      ]
     },
     "execution_count": 69,
     "metadata": {},
     "output_type": "execute_result"
    }
   ],
   "source": [
    "a_t_minus_b"
   ]
  },
  {
   "cell_type": "code",
   "execution_count": 70,
   "metadata": {},
   "outputs": [
    {
     "data": {
      "text/plain": [
       "array([[[[ 0.03, -0.27, -0.57],\n",
       "         [ 0.23, -0.07, -0.37],\n",
       "         [ 0.43,  0.13, -0.17]],\n",
       "\n",
       "        [[-0.27,  2.43,  5.13],\n",
       "         [-2.07,  0.63,  3.33],\n",
       "         [-3.87, -1.17,  1.53]],\n",
       "\n",
       "        [[-0.57,  5.13, 10.83],\n",
       "         [-4.37,  1.33,  7.03],\n",
       "         [-8.17, -2.47,  3.23]]],\n",
       "\n",
       "\n",
       "       [[[ 0.23, -2.07, -4.37],\n",
       "         [ 2.43,  0.13, -2.17],\n",
       "         [ 4.63,  2.33,  0.03]],\n",
       "\n",
       "        [[-0.07,  0.63,  1.33],\n",
       "         [ 0.13,  0.83,  1.53],\n",
       "         [ 0.33,  1.03,  1.73]],\n",
       "\n",
       "        [[-0.37,  3.33,  7.03],\n",
       "         [-2.17,  1.53,  5.23],\n",
       "         [-3.97, -0.27,  3.43]]],\n",
       "\n",
       "\n",
       "       [[[ 0.43, -3.87, -8.17],\n",
       "         [ 4.63,  0.33, -3.97],\n",
       "         [ 8.83,  4.53,  0.23]],\n",
       "\n",
       "        [[ 0.13, -1.17, -2.47],\n",
       "         [ 2.33,  1.03, -0.27],\n",
       "         [ 4.53,  3.23,  1.93]],\n",
       "\n",
       "        [[-0.17,  1.53,  3.23],\n",
       "         [ 0.03,  1.73,  3.43],\n",
       "         [ 0.23,  1.93,  3.63]]]])"
      ]
     },
     "execution_count": 70,
     "metadata": {},
     "output_type": "execute_result"
    }
   ],
   "source": [
    "a_t_minus_b.shape\n",
    "T = np.tensordot(a_t_minus_b,a_t_minus_b, axes=((1),(1)))\n",
    "T"
   ]
  },
  {
   "cell_type": "code",
   "execution_count": 357,
   "metadata": {},
   "outputs": [
    {
     "data": {
      "text/plain": [
       "array([[149, 128,  21,   0, 128, 110,  18,   0],\n",
       "       [ 21,  18,   3,   0,   0,   0,   0,   0]])"
      ]
     },
     "execution_count": 357,
     "metadata": {},
     "output_type": "execute_result"
    }
   ],
   "source": [
    "\n",
    "T.reshape(len(channel_1),int(len(channel_1)*(pow(len(channel_2),2))))"
   ]
  },
  {
   "cell_type": "code",
   "execution_count": 358,
   "metadata": {},
   "outputs": [
    {
     "data": {
      "text/plain": [
       "array([[[[149, 128],\n",
       "         [ 21,   0]],\n",
       "\n",
       "        [[128, 110],\n",
       "         [ 18,   0]]],\n",
       "\n",
       "\n",
       "       [[[ 21,  18],\n",
       "         [  3,   0]],\n",
       "\n",
       "        [[  0,   0],\n",
       "         [  0,   0]]]])"
      ]
     },
     "execution_count": 358,
     "metadata": {},
     "output_type": "execute_result"
    }
   ],
   "source": [
    "T\n"
   ]
  },
  {
   "cell_type": "code",
   "execution_count": 337,
   "metadata": {},
   "outputs": [
    {
     "data": {
      "text/plain": [
       "array([149,  63, 107,  21, -65, -21,  63,  27,  45,   9, -27,  -9, 107,\n",
       "        45,  77,  15, -47, -15,  21,   9,  15,   3,  -9,  -3, -65, -27,\n",
       "       -47,  -9,  29,   9, -21,  -9, -15,  -3,   9,   3])"
      ]
     },
     "execution_count": 337,
     "metadata": {},
     "output_type": "execute_result"
    }
   ],
   "source": [
    "T.flatten()"
   ]
  },
  {
   "cell_type": "code",
   "execution_count": null,
   "metadata": {},
   "outputs": [],
   "source": []
  },
  {
   "cell_type": "code",
   "execution_count": null,
   "metadata": {},
   "outputs": [],
   "source": []
  }
 ],
 "metadata": {
  "kernelspec": {
   "display_name": "Python 3",
   "language": "python",
   "name": "python3"
  },
  "language_info": {
   "codemirror_mode": {
    "name": "ipython",
    "version": 3
   },
   "file_extension": ".py",
   "mimetype": "text/x-python",
   "name": "python",
   "nbconvert_exporter": "python",
   "pygments_lexer": "ipython3",
   "version": "3.6.2"
  }
 },
 "nbformat": 4,
 "nbformat_minor": 2
}
